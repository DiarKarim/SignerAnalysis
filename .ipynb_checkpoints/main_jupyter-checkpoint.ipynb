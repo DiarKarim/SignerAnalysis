{
 "cells": [
  {
   "cell_type": "code",
   "execution_count": 5,
   "id": "47edc869-c95c-4285-8692-08cf485c658f",
   "metadata": {
    "tags": []
   },
   "outputs": [
    {
     "name": "stdout",
     "output_type": "stream",
     "text": [
      "Requirement already satisfied: mediapipe in c:\\programdata\\anaconda3\\lib\\site-packages (0.10.11)\n",
      "Requirement already satisfied: opencv-python in c:\\users\\actionlab\\appdata\\roaming\\python\\python311\\site-packages (4.9.0.80)\n",
      "Requirement already satisfied: absl-py in c:\\programdata\\anaconda3\\lib\\site-packages (from mediapipe) (2.1.0)\n",
      "Requirement already satisfied: attrs>=19.1.0 in c:\\programdata\\anaconda3\\lib\\site-packages (from mediapipe) (22.1.0)\n",
      "Requirement already satisfied: flatbuffers>=2.0 in c:\\programdata\\anaconda3\\lib\\site-packages (from mediapipe) (24.3.25)\n",
      "Requirement already satisfied: jax in c:\\programdata\\anaconda3\\lib\\site-packages (from mediapipe) (0.4.26)\n",
      "Requirement already satisfied: matplotlib in c:\\programdata\\anaconda3\\lib\\site-packages (from mediapipe) (3.7.2)\n",
      "Requirement already satisfied: numpy in c:\\programdata\\anaconda3\\lib\\site-packages (from mediapipe) (1.24.3)\n",
      "Requirement already satisfied: opencv-contrib-python in c:\\programdata\\anaconda3\\lib\\site-packages (from mediapipe) (4.9.0.80)\n",
      "Requirement already satisfied: protobuf<4,>=3.11 in c:\\programdata\\anaconda3\\lib\\site-packages (from mediapipe) (3.20.3)\n",
      "Requirement already satisfied: sounddevice>=0.4.4 in c:\\programdata\\anaconda3\\lib\\site-packages (from mediapipe) (0.4.6)\n",
      "Requirement already satisfied: CFFI>=1.0 in c:\\programdata\\anaconda3\\lib\\site-packages (from sounddevice>=0.4.4->mediapipe) (1.15.1)\n",
      "Requirement already satisfied: ml-dtypes>=0.2.0 in c:\\programdata\\anaconda3\\lib\\site-packages (from jax->mediapipe) (0.4.0)\n",
      "Requirement already satisfied: opt-einsum in c:\\programdata\\anaconda3\\lib\\site-packages (from jax->mediapipe) (3.3.0)\n",
      "Requirement already satisfied: scipy>=1.9 in c:\\programdata\\anaconda3\\lib\\site-packages (from jax->mediapipe) (1.11.1)\n",
      "Requirement already satisfied: contourpy>=1.0.1 in c:\\programdata\\anaconda3\\lib\\site-packages (from matplotlib->mediapipe) (1.0.5)\n",
      "Requirement already satisfied: cycler>=0.10 in c:\\programdata\\anaconda3\\lib\\site-packages (from matplotlib->mediapipe) (0.11.0)\n",
      "Requirement already satisfied: fonttools>=4.22.0 in c:\\programdata\\anaconda3\\lib\\site-packages (from matplotlib->mediapipe) (4.25.0)\n",
      "Requirement already satisfied: kiwisolver>=1.0.1 in c:\\programdata\\anaconda3\\lib\\site-packages (from matplotlib->mediapipe) (1.4.4)\n",
      "Requirement already satisfied: packaging>=20.0 in c:\\programdata\\anaconda3\\lib\\site-packages (from matplotlib->mediapipe) (23.1)\n",
      "Requirement already satisfied: pillow>=6.2.0 in c:\\programdata\\anaconda3\\lib\\site-packages (from matplotlib->mediapipe) (9.4.0)\n",
      "Requirement already satisfied: pyparsing<3.1,>=2.3.1 in c:\\programdata\\anaconda3\\lib\\site-packages (from matplotlib->mediapipe) (3.0.9)\n",
      "Requirement already satisfied: python-dateutil>=2.7 in c:\\programdata\\anaconda3\\lib\\site-packages (from matplotlib->mediapipe) (2.8.2)\n",
      "Requirement already satisfied: pycparser in c:\\programdata\\anaconda3\\lib\\site-packages (from CFFI>=1.0->sounddevice>=0.4.4->mediapipe) (2.21)\n",
      "Requirement already satisfied: six>=1.5 in c:\\programdata\\anaconda3\\lib\\site-packages (from python-dateutil>=2.7->matplotlib->mediapipe) (1.16.0)\n",
      "Note: you may need to restart the kernel to use updated packages.\n"
     ]
    }
   ],
   "source": [
    "pip install mediapipe opencv-python"
   ]
  },
  {
   "cell_type": "code",
   "execution_count": 7,
   "id": "ee92876b-7c00-4192-9a43-05f6ab054e89",
   "metadata": {
    "tags": []
   },
   "outputs": [],
   "source": [
    "import mediapipe as mp\n",
    "import cv2\n",
    "import matplotlib.pyplot as plt\n",
    "import time\n",
    "\n",
    "# May 14th 2024\n",
    "import pandas as pd\n",
    "import seaborn as sns"
   ]
  },
  {
   "cell_type": "code",
   "execution_count": 8,
   "id": "abf33bac-3a45-4757-9223-5e5491c0b3f0",
   "metadata": {
    "tags": []
   },
   "outputs": [
    {
     "data": {
      "text/plain": [
       "<function mediapipe.python.solutions.drawing_utils.draw_landmarks(image: numpy.ndarray, landmark_list: mediapipe.framework.formats.landmark_pb2.NormalizedLandmarkList, connections: Optional[List[Tuple[int, int]]] = None, landmark_drawing_spec: Union[mediapipe.python.solutions.drawing_utils.DrawingSpec, Mapping[int, mediapipe.python.solutions.drawing_utils.DrawingSpec]] = DrawingSpec(color=(0, 0, 255), thickness=2, circle_radius=2), connection_drawing_spec: Union[mediapipe.python.solutions.drawing_utils.DrawingSpec, Mapping[Tuple[int, int], mediapipe.python.solutions.drawing_utils.DrawingSpec]] = DrawingSpec(color=(224, 224, 224), thickness=2, circle_radius=2), is_drawing_landmarks: bool = True)>"
      ]
     },
     "execution_count": 8,
     "metadata": {},
     "output_type": "execute_result"
    }
   ],
   "source": [
    "mp_drawing = mp.solutions.drawing_utils\n",
    "mp_holistic = mp.solutions.holistic\n",
    "\n",
    "mp_holistic.POSE_CONNECTIONS\n",
    "mp_drawing.DrawingSpec(color=(0,0,255), thickness=2, circle_radius=2)\n",
    "mp_drawing.draw_landmarks"
   ]
  },
  {
   "cell_type": "code",
   "execution_count": null,
   "id": "2a3f1d3e-0b9f-428c-a4a6-b6d58e1630f6",
   "metadata": {},
   "outputs": [],
   "source": []
  },
  {
   "cell_type": "code",
   "execution_count": 12,
   "id": "dbbc826d-67c4-47cc-8f05-5df810e0b82b",
   "metadata": {
    "tags": []
   },
   "outputs": [],
   "source": [
    "# Setup variabls\n",
    "face_data_x = []\n",
    "face_data_y = []\n",
    "face_data_z = []\n",
    "\n",
    "hand_left_x = []\n",
    "hand_left_y = []\n",
    "hand_left_z = []\n",
    "\n",
    "# hand_right = []\n",
    "\n",
    "\n",
    "\n",
    "# face_time = []\n",
    "# hand_left_time = []\n",
    "\n",
    "time_capture = []\n",
    "\n",
    "\n",
    "cap = cv2.VideoCapture(1)"
   ]
  },
  {
   "cell_type": "code",
   "execution_count": 13,
   "id": "bc403951-a68b-4a74-86f7-5f53e7d5383d",
   "metadata": {
    "tags": []
   },
   "outputs": [],
   "source": [
    "tmp1_data_x, tmp2_data_x, tmp3_data_x, tmp4_data_x, tmp5_data_x, tmp6_data_x, tmp7_data_x, tmp8_data_x = 0,0,0,0,0,0,0,0\n",
    "tmp1_data_y, tmp2_data_y, tmp3_data_y, tmp4_data_y, tmp5_data_y, tmp6_data_y, tmp7_data_y, tmp8_data_y = 0,0,0,0,0,0,0,0\n",
    "tmp1_data_z, tmp2_data_z, tmp3_data_z, tmp4_data_z, tmp5_data_z, tmp6_data_z, tmp7_data_z, tmp8_data_z = 0,0,0,0,0,0,0,0\n",
    "\n",
    "rbrow_x, rbrow_y, rbrow_z = [],[],[]\n",
    "lbrow_x, lbrow_y, lbrow_z = [],[],[]\n",
    "tophead_x, tophead_y, tophead_z = [],[],[]\n",
    "leftcheeck_x, leftcheeck_y, leftcheeck_z = [],[],[]\n",
    "right_cheeck_x, right_cheeck_y, right_cheeck_z = [],[],[]\n",
    "chin_x, chin_y, chin_z = [],[],[]\n",
    "uppmidlip_x, uppmidlip_y, uppmidlip_z = [],[],[]\n",
    "bottmidlip_x, bottmidlip_y, bottmidlip_z = [],[],[]"
   ]
  },
  {
   "cell_type": "code",
   "execution_count": 11,
   "id": "ca01da17-709e-4179-a075-bbef8a98524f",
   "metadata": {},
   "outputs": [
    {
     "ename": "NameError",
     "evalue": "name 'left_hand_x' is not defined",
     "output_type": "error",
     "traceback": [
      "\u001b[1;31m---------------------------------------------------------------------------\u001b[0m",
      "\u001b[1;31mNameError\u001b[0m                                 Traceback (most recent call last)",
      "Cell \u001b[1;32mIn[11], line 126\u001b[0m\n\u001b[0;32m    123\u001b[0m         left_hand_y \u001b[38;5;241m=\u001b[39m results\u001b[38;5;241m.\u001b[39mleft_hand_landmarks\u001b[38;5;241m.\u001b[39mlandmark[mp_holistic\u001b[38;5;241m.\u001b[39mHandLandmark\u001b[38;5;241m.\u001b[39mINDEX_FINGER_TIP]\u001b[38;5;241m.\u001b[39my\n\u001b[0;32m    124\u001b[0m         left_hand_z \u001b[38;5;241m=\u001b[39m results\u001b[38;5;241m.\u001b[39mleft_hand_landmarks\u001b[38;5;241m.\u001b[39mlandmark[mp_holistic\u001b[38;5;241m.\u001b[39mHandLandmark\u001b[38;5;241m.\u001b[39mINDEX_FINGER_TIP]\u001b[38;5;241m.\u001b[39mz\n\u001b[1;32m--> 126\u001b[0m hand_left_x\u001b[38;5;241m.\u001b[39mappend(left_hand_x)\n\u001b[0;32m    127\u001b[0m hand_left_y\u001b[38;5;241m.\u001b[39mappend(left_hand_y)\n\u001b[0;32m    128\u001b[0m hand_left_z\u001b[38;5;241m.\u001b[39mappend(left_hand_z)\n",
      "\u001b[1;31mNameError\u001b[0m: name 'left_hand_x' is not defined"
     ]
    }
   ],
   "source": [
    "\n",
    "startTime = time.time()\n",
    "\n",
    "# Initiate holistic model\n",
    "with mp_holistic.Holistic(min_detection_confidence=0.5, min_tracking_confidence=0.5) as holistic:\n",
    "    \n",
    "    while cap.isOpened():\n",
    "        ret, frame = cap.read()\n",
    "        \n",
    "        # Recolor Feed\n",
    "        image = cv2.cvtColor(frame, cv2.COLOR_BGR2RGB)\n",
    "        # Make Detections\n",
    "        results = holistic.process(image)\n",
    "        # print(results.face_landmarks)\n",
    "        \n",
    "        # face_landmarks, pose_landmarks, left_hand_landmarks, right_hand_landmarks\n",
    "        \n",
    "        # Recolor image back to BGR for rendering\n",
    "        image = cv2.cvtColor(image, cv2.COLOR_RGB2BGR)\n",
    "        \n",
    "        # 1. Draw face landmarks\n",
    "        mp_drawing.draw_landmarks(image, results.face_landmarks, mp_holistic.FACEMESH_CONTOURS, \n",
    "                                 mp_drawing.DrawingSpec(color=(80,110,10), thickness=1, circle_radius=1),\n",
    "                                 mp_drawing.DrawingSpec(color=(80,256,121), thickness=1, circle_radius=1)\n",
    "                                 )\n",
    "        \n",
    "        # 5. Save face data        \n",
    "        # Extract specific landmarks \n",
    "        if results.face_landmarks:\n",
    "            for landmark in results.face_landmarks.landmark: \n",
    "                rightBrowIndex = 105\n",
    "                tmp1_data_x = results.face_landmarks.landmark[rightBrowIndex].x\n",
    "                tmp1_data_y = results.face_landmarks.landmark[rightBrowIndex].y\n",
    "                tmp1_data_z = results.face_landmarks.landmark[rightBrowIndex].z\n",
    "                \n",
    "                leftBrowIndex = 334\n",
    "                tmp2_data_x = results.face_landmarks.landmark[leftBrowIndex].x\n",
    "                tmp2_data_y = results.face_landmarks.landmark[leftBrowIndex].y\n",
    "                tmp2_data_z = results.face_landmarks.landmark[leftBrowIndex].z\n",
    "                \n",
    "                tophead = 10\n",
    "                tmp3_data_x = results.face_landmarks.landmark[tophead].x\n",
    "                tmp3_data_y = results.face_landmarks.landmark[tophead].y\n",
    "                tmp3_data_z = results.face_landmarks.landmark[tophead].z\n",
    "                \n",
    "                left_cheeck = 454\n",
    "                tmp4_data_x = results.face_landmarks.landmark[left_cheeck].x\n",
    "                tmp4_data_y = results.face_landmarks.landmark[left_cheeck].y\n",
    "                tmp4_data_z = results.face_landmarks.landmark[left_cheeck].z\n",
    "                \n",
    "                right_cheeck = 234\n",
    "                tmp5_data_x = results.face_landmarks.landmark[right_cheeck].x\n",
    "                tmp5_data_y = results.face_landmarks.landmark[right_cheeck].y\n",
    "                tmp5_data_z = results.face_landmarks.landmark[right_cheeck].z\n",
    "                \n",
    "                chin = 152\n",
    "                tmp6_data_x = results.face_landmarks.landmark[chin].x\n",
    "                tmp6_data_y = results.face_landmarks.landmark[chin].y\n",
    "                tmp6_data_z = results.face_landmarks.landmark[chin].z\n",
    "                \n",
    "                uppermiddlelip = 0\n",
    "                tmp7_data_x = results.face_landmarks.landmark[uppermiddlelip].x\n",
    "                tmp7_data_y = results.face_landmarks.landmark[uppermiddlelip].y\n",
    "                tmp7_data_z = results.face_landmarks.landmark[uppermiddlelip].z\n",
    "                \n",
    "                bottommiddlelip = 17\n",
    "                tmp8_data_x = results.face_landmarks.landmark[bottommiddlelip].x\n",
    "                tmp8_data_y = results.face_landmarks.landmark[bottommiddlelip].y\n",
    "                tmp8_data_z = results.face_landmarks.landmark[bottommiddlelip].z\n",
    "                \n",
    "            \n",
    "        rbrow_x.append(tmp1_data_x)\n",
    "        rbrow_y.append(tmp1_data_y)\n",
    "        rbrow_z.append(tmp1_data_z)\n",
    "        \n",
    "        lbrow_x.append(tmp2_data_x)\n",
    "        lbrow_y.append(tmp2_data_y)\n",
    "        lbrow_z.append(tmp2_data_z)\n",
    "        \n",
    "        tophead_x.append(tmp3_data_x)\n",
    "        tophead_y.append(tmp3_data_y)\n",
    "        tophead_z.append(tmp3_data_z)\n",
    "        \n",
    "        leftcheeck_x.append(tmp4_data_x)\n",
    "        leftcheeck_y.append(tmp4_data_y)\n",
    "        leftcheeck_z.append(tmp4_data_z)\n",
    "        \n",
    "        right_cheeck_x.append(tmp5_data_x)\n",
    "        right_cheeck_y.append(tmp5_data_y)\n",
    "        right_cheeck_z.append(tmp5_data_z)\n",
    "        \n",
    "        chin_x.append(tmp6_data_x)\n",
    "        chin_y.append(tmp6_data_y)\n",
    "        chin_z.append(tmp6_data_z)\n",
    "        \n",
    "        uppmidlip_x.append(tmp7_data_x)\n",
    "        uppmidlip_y.append(tmp7_data_y)\n",
    "        uppmidlip_z.append(tmp7_data_z)\n",
    "        \n",
    "        bottmidlip_x.append(tmp8_data_x)\n",
    "        bottmidlip_y.append(tmp8_data_y)\n",
    "        bottmidlip_z.append(tmp8_data_z)\n",
    "\n",
    "        time_capture.append(time.time() - startTime) \n",
    "\n",
    "        \n",
    "        # 2. Right hand\n",
    "        mp_drawing.draw_landmarks(image, results.right_hand_landmarks, mp_holistic.HAND_CONNECTIONS, \n",
    "                                 mp_drawing.DrawingSpec(color=(80,22,10), thickness=2, circle_radius=4),\n",
    "                                 mp_drawing.DrawingSpec(color=(80,44,121), thickness=2, circle_radius=2)\n",
    "                                 )\n",
    "\n",
    "        # 3. Left Hand\n",
    "        mp_drawing.draw_landmarks(image, results.left_hand_landmarks, mp_holistic.HAND_CONNECTIONS, \n",
    "                                 mp_drawing.DrawingSpec(color=(121,22,76), thickness=2, circle_radius=4),\n",
    "                                 mp_drawing.DrawingSpec(color=(121,44,250), thickness=2, circle_radius=2)\n",
    "                                 )\n",
    "\n",
    "        # 5. Save face data        \n",
    "        # Extract specific landmarks \n",
    "        if results.left_hand_landmarks:\n",
    "            for landmark in results.left_hand_landmarks.landmark: \n",
    "                left_hand_x = results.left_hand_landmarks.landmark[mp_holistic.HandLandmark.INDEX_FINGER_TIP].x\n",
    "                left_hand_y = results.left_hand_landmarks.landmark[mp_holistic.HandLandmark.INDEX_FINGER_TIP].y\n",
    "                left_hand_z = results.left_hand_landmarks.landmark[mp_holistic.HandLandmark.INDEX_FINGER_TIP].z\n",
    "            \n",
    "        hand_left_x.append(left_hand_x)\n",
    "        hand_left_y.append(left_hand_y)\n",
    "        hand_left_z.append(left_hand_z)\n",
    "\n",
    "        \n",
    "        # 4. Pose Detections\n",
    "        mp_drawing.draw_landmarks(image, results.pose_landmarks, mp_holistic.POSE_CONNECTIONS, \n",
    "                                 mp_drawing.DrawingSpec(color=(245,117,66), thickness=2, circle_radius=4),\n",
    "                                 mp_drawing.DrawingSpec(color=(245,66,230), thickness=2, circle_radius=2)\n",
    "                                 )\n",
    "\n",
    "            \n",
    "        cv2.imshow('Raw Webcam Feed', image)\n",
    "\n",
    "        if cv2.waitKey(10) & 0xFF == ord('q'):\n",
    "            break\n",
    "            \n",
    "            "
   ]
  },
  {
   "cell_type": "code",
   "execution_count": null,
   "id": "3b674b6a-9dfd-4fe1-ba33-b89a142b6489",
   "metadata": {
    "tags": []
   },
   "outputs": [],
   "source": [
    "data_dictionary = {\"rbrow_x\" : rbrow_x,\n",
    "                   \"rbrow_y\" : rbrow_y, \n",
    "                   \"rbrow_z\" : rbrow_z, \n",
    "                   \"lbrow_x\" : lbrow_x,\n",
    "                   \"lbrow_y\" : lbrow_y, \n",
    "                   \"lbrow_z\" : lbrow_z, \n",
    "                   \"tophead_x\" : tophead_x,\n",
    "                   \"tophead_y\" : tophead_y, \n",
    "                   \"tophead_z\" : tophead_z,   \n",
    "                   \"leftcheeck_x\" : leftcheeck_x,\n",
    "                   \"leftcheeck_y\" : leftcheeck_y, \n",
    "                   \"leftcheeck_z\" : leftcheeck_z,     \n",
    "                   \"right_cheeck_x\" : right_cheeck_x,\n",
    "                   \"right_cheeck_y\" : right_cheeck_y, \n",
    "                   \"right_cheeck_z\" : right_cheeck_z,   \n",
    "                   \"chin_x\" : chin_x,\n",
    "                   \"chin_y\" : chin_y, \n",
    "                   \"chin_z\" : chin_z,  \n",
    "                   \"uppmidlip_x\" : uppmidlip_x,\n",
    "                   \"uppmidlip_y\" : uppmidlip_y, \n",
    "                   \"uppmidlip_z\" : uppmidlip_z,                     \n",
    "                   \"bottmidlip_x\" : bottmidlip_x,\n",
    "                   \"bottmidlip_y\" : bottmidlip_y, \n",
    "                   \"bottmidlip_z\" : bottmidlip_z,     \n",
    "                   \"lhand_x\" : hand_left_x,\n",
    "                   \"lhand_y\" : hand_left_y, \n",
    "                   \"lhand_z\" : hand_left_z, \n",
    "                   \"time\" : time_capture,}\n",
    "\n",
    "df = pd.DataFrame(data_dictionary)"
   ]
  },
  {
   "cell_type": "markdown",
   "id": "916ac354-2f84-4de5-bd9c-d2bf00e9216b",
   "metadata": {
    "tags": []
   },
   "source": [
    "### Show dataframe "
   ]
  },
  {
   "cell_type": "code",
   "execution_count": null,
   "id": "97d93bb5-4bc0-4fb8-b3d0-2fef6a18cd79",
   "metadata": {
    "tags": []
   },
   "outputs": [],
   "source": [
    "df['videotrial'] = 0 \n",
    "df['condition'] = 1 "
   ]
  },
  {
   "cell_type": "code",
   "execution_count": null,
   "id": "d3d4109c-58b9-4902-90a8-4875e911790d",
   "metadata": {
    "tags": []
   },
   "outputs": [],
   "source": [
    "df"
   ]
  },
  {
   "cell_type": "code",
   "execution_count": null,
   "id": "7ef685ca-18bc-4003-aeeb-5e43f1a425aa",
   "metadata": {
    "tags": []
   },
   "outputs": [],
   "source": [
    "sns.lineplot(x='time', y = 'lhand_y', data=df)"
   ]
  },
  {
   "cell_type": "code",
   "execution_count": null,
   "id": "13d20f6b-fe79-4d2a-b55f-c4d5633834f6",
   "metadata": {
    "tags": []
   },
   "outputs": [],
   "source": [
    "# data = {'col_1': [3, 2, 1, 0], 'col_2': ['a', 'b', 'c', 'd']}\n",
    "# pd.DataFrame.from_dict(data)\n",
    "\n",
    "plt.figure()\n",
    "plt.plot(time_capture, face_data)\n",
    "plt.xlabel('Time (s)')\n",
    "plt.ylabel('Left hand index X position')\n",
    "\n",
    "print(len(time_capture))\n",
    "\n",
    "cap.release()\n",
    "cv2.destroyAllWindows()\n"
   ]
  },
  {
   "cell_type": "code",
   "execution_count": null,
   "id": "cd4c87a0-e4d2-4721-8e00-68bd8df27d59",
   "metadata": {},
   "outputs": [],
   "source": []
  }
 ],
 "metadata": {
  "kernelspec": {
   "display_name": "Python 3 (ipykernel)",
   "language": "python",
   "name": "python3"
  },
  "language_info": {
   "codemirror_mode": {
    "name": "ipython",
    "version": 3
   },
   "file_extension": ".py",
   "mimetype": "text/x-python",
   "name": "python",
   "nbconvert_exporter": "python",
   "pygments_lexer": "ipython3",
   "version": "3.11.5"
  }
 },
 "nbformat": 4,
 "nbformat_minor": 5
}
